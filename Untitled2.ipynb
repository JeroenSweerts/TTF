{
 "cells": [
  {
   "cell_type": "code",
   "execution_count": 1,
   "metadata": {},
   "outputs": [],
   "source": [
    "import torch\n",
    "import numpy as np\n",
    "import pandas as pd\n",
    "from os import listdir\n",
    "import random\n",
    "random.seed()   \n",
    "import sklearn.mixture as mix\n",
    "import talib\n",
    "import matplotlib.pyplot as plt\n",
    "from matplotlib import cm\n",
    "import seaborn as sns\n",
    "\n",
    "\n",
    "mypath = '/media/sweerts/Data/trading/cash_bot/data/'\n",
    "extension = 'h5'\n",
    "onlyfiles = [f for f in listdir(mypath) if f.endswith('.' + extension)]"
   ]
  },
  {
   "cell_type": "markdown",
   "metadata": {},
   "source": [
    "# Prepare training data set"
   ]
  },
  {
   "cell_type": "code",
   "execution_count": 2,
   "metadata": {
    "scrolled": false
   },
   "outputs": [],
   "source": [
    "masterdata = pd.read_hdf('/media/sweerts/Data/trading/cash_bot/data/' + onlyfiles[0], mode='r')\n",
    "masterdata['RSI'] = talib.RSI(masterdata['close'],140).astype(float)\n",
    "masterdata = masterdata.dropna()\n",
    "for file in onlyfiles[1:]:\n",
    "    data = pd.read_hdf('/media/sweerts/Data/trading/cash_bot/data/' + file, mode='r')\n",
    "    data['RSI'] = talib.RSI(data['close'],140).astype(float)\n",
    "    data = data.dropna()\n",
    "    masterdata = masterdata.append(data)\n",
    "    \n"
   ]
  },
  {
   "cell_type": "markdown",
   "metadata": {},
   "source": [
    "# Calculate optimal number of components (hidden states)"
   ]
  },
  {
   "cell_type": "code",
   "execution_count": null,
   "metadata": {},
   "outputs": [],
   "source": [
    "X =  masterdata['RSI'].values.reshape(-1, 1)\n",
    "n_estimators = np.arange(1,100)\n",
    "clfs = [mix.GaussianMixture(n_components=n,covariance_type=\"full\",n_init=10,random_state=0).fit(X) for n in n_estimators]\n",
    "bics = [clf.bic(X) for clf in clfs]\n",
    "aics = [clf.aic(X) for clf in clfs]\n",
    "\n",
    "plt.plot(n_estimators, bics, label='BIC')\n",
    "plt.plot(n_estimators, aics, label='AIC')\n",
    "plt.legend()\n"
   ]
  },
  {
   "cell_type": "code",
   "execution_count": null,
   "metadata": {},
   "outputs": [],
   "source": [
    "print(bics)"
   ]
  },
  {
   "cell_type": "markdown",
   "metadata": {},
   "source": [
    "# train model with optimal number of hidden states"
   ]
  },
  {
   "cell_type": "code",
   "execution_count": 8,
   "metadata": {},
   "outputs": [],
   "source": [
    "X =  masterdata['RSI'].values.reshape(-1, 1)\n",
    "model = mix.GaussianMixture(n_components=20,\n",
    "                covariance_type=\"full\",\n",
    "                n_init=10,\n",
    "                random_state=0).fit(X)\n",
    "hidden_states = model.predict(X)\n",
    "########################################################################### HMM #####################################\n",
    "masterdata['HMM_RSI'] = hidden_states"
   ]
  },
  {
   "cell_type": "code",
   "execution_count": 9,
   "metadata": {},
   "outputs": [
    {
     "name": "stdout",
     "output_type": "stream",
     "text": [
      "True\n"
     ]
    }
   ],
   "source": [
    "print(model.converged_)"
   ]
  },
  {
   "cell_type": "code",
   "execution_count": 10,
   "metadata": {},
   "outputs": [],
   "source": [
    "from sklearn.externals import joblib\n",
    "# now you can save it to a file\n",
    "joblib.dump(model, 'GMM.pkl') \n",
    "# and later you can load it\n",
    "model = joblib.load('GMM.pkl')"
   ]
  },
  {
   "cell_type": "markdown",
   "metadata": {},
   "source": [
    "# Test model"
   ]
  },
  {
   "cell_type": "code",
   "execution_count": 27,
   "metadata": {},
   "outputs": [
    {
     "name": "stdout",
     "output_type": "stream",
     "text": [
      "86094 86094 86094\n"
     ]
    }
   ],
   "source": [
    "from sklearn.externals import joblib\n",
    "masterdata = pd.read_hdf('/media/sweerts/Data/trading/cash_bot/data/' + onlyfiles[10], mode='r')\n",
    "masterdata['RSI'] = talib.RSI(masterdata['close'],140).astype(float)\n",
    "masterdata = masterdata.dropna()\n",
    "X =  masterdata['RSI'].values.reshape(-1, 1)\n",
    "model = joblib.load('GMM.pkl')\n",
    "hidden_states1 = model.predict(X)\n",
    "hidden_states2 = model.predict(X)\n",
    "hidden_states3 = model.predict(X)\n",
    "print(sum(hidden_states1),sum(hidden_states2),sum(hidden_states3))"
   ]
  },
  {
   "cell_type": "code",
   "execution_count": 28,
   "metadata": {},
   "outputs": [
    {
     "name": "stdout",
     "output_type": "stream",
     "text": [
      "0\n"
     ]
    }
   ],
   "source": [
    "print(sum((hidden_states1==hidden_states2)-1))"
   ]
  },
  {
   "cell_type": "code",
   "execution_count": null,
   "metadata": {},
   "outputs": [],
   "source": []
  }
 ],
 "metadata": {
  "kernelspec": {
   "display_name": "trading",
   "language": "python",
   "name": "trading"
  },
  "language_info": {
   "codemirror_mode": {
    "name": "ipython",
    "version": 3
   },
   "file_extension": ".py",
   "mimetype": "text/x-python",
   "name": "python",
   "nbconvert_exporter": "python",
   "pygments_lexer": "ipython3",
   "version": "3.6.6"
  }
 },
 "nbformat": 4,
 "nbformat_minor": 2
}
