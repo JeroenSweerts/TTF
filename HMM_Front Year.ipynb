{
 "cells": [
  {
   "cell_type": "code",
   "execution_count": 1,
   "metadata": {},
   "outputs": [
    {
     "ename": "ImportError",
     "evalue": "cannot import name '_hmmc'",
     "output_type": "error",
     "traceback": [
      "\u001b[1;31m---------------------------------------------------------------------------\u001b[0m",
      "\u001b[1;31mImportError\u001b[0m                               Traceback (most recent call last)",
      "\u001b[1;32m<ipython-input-1-bb67cac06642>\u001b[0m in \u001b[0;36m<module>\u001b[1;34m()\u001b[0m\n\u001b[0;32m     12\u001b[0m \u001b[1;32mimport\u001b[0m \u001b[0mseaborn\u001b[0m \u001b[1;32mas\u001b[0m \u001b[0msns\u001b[0m\u001b[1;33m\u001b[0m\u001b[0m\n\u001b[0;32m     13\u001b[0m \u001b[1;32mfrom\u001b[0m \u001b[0mscipy\u001b[0m\u001b[1;33m.\u001b[0m\u001b[0mstats\u001b[0m \u001b[1;32mimport\u001b[0m \u001b[0mpearsonr\u001b[0m\u001b[1;33m\u001b[0m\u001b[0m\n\u001b[1;32m---> 14\u001b[1;33m \u001b[1;32mfrom\u001b[0m \u001b[0mhmmlearn\u001b[0m \u001b[1;32mimport\u001b[0m \u001b[0mhmm\u001b[0m\u001b[1;33m\u001b[0m\u001b[0m\n\u001b[0m\u001b[0;32m     15\u001b[0m \u001b[0mnp\u001b[0m\u001b[1;33m.\u001b[0m\u001b[0mrandom\u001b[0m\u001b[1;33m.\u001b[0m\u001b[0mseed\u001b[0m\u001b[1;33m(\u001b[0m\u001b[1;36m42\u001b[0m\u001b[1;33m)\u001b[0m\u001b[1;33m\u001b[0m\u001b[0m\n",
      "\u001b[1;32mC:\\DATA\\Python\\Guassian_Mixture_Model\\hmmlearn\\hmm.py\u001b[0m in \u001b[0;36m<module>\u001b[1;34m()\u001b[0m\n\u001b[0;32m     18\u001b[0m \u001b[1;32mfrom\u001b[0m \u001b[1;33m.\u001b[0m \u001b[1;32mimport\u001b[0m \u001b[0m_utils\u001b[0m\u001b[1;33m\u001b[0m\u001b[0m\n\u001b[0;32m     19\u001b[0m \u001b[1;32mfrom\u001b[0m \u001b[1;33m.\u001b[0m\u001b[0mstats\u001b[0m \u001b[1;32mimport\u001b[0m \u001b[0mlog_multivariate_normal_density\u001b[0m\u001b[1;33m\u001b[0m\u001b[0m\n\u001b[1;32m---> 20\u001b[1;33m \u001b[1;32mfrom\u001b[0m \u001b[1;33m.\u001b[0m\u001b[0mbase\u001b[0m \u001b[1;32mimport\u001b[0m \u001b[0m_BaseHMM\u001b[0m\u001b[1;33m\u001b[0m\u001b[0m\n\u001b[0m\u001b[0;32m     21\u001b[0m \u001b[1;32mfrom\u001b[0m \u001b[1;33m.\u001b[0m\u001b[0mutils\u001b[0m \u001b[1;32mimport\u001b[0m \u001b[0miter_from_X_lengths\u001b[0m\u001b[1;33m,\u001b[0m \u001b[0mnormalize\u001b[0m\u001b[1;33m,\u001b[0m \u001b[0mfill_covars\u001b[0m\u001b[1;33m\u001b[0m\u001b[0m\n\u001b[0;32m     22\u001b[0m \u001b[1;33m\u001b[0m\u001b[0m\n",
      "\u001b[1;32mC:\\DATA\\Python\\Guassian_Mixture_Model\\hmmlearn\\base.py\u001b[0m in \u001b[0;36m<module>\u001b[1;34m()\u001b[0m\n\u001b[0;32m     11\u001b[0m \u001b[1;32mfrom\u001b[0m \u001b[0msklearn\u001b[0m\u001b[1;33m.\u001b[0m\u001b[0mutils\u001b[0m\u001b[1;33m.\u001b[0m\u001b[0mvalidation\u001b[0m \u001b[1;32mimport\u001b[0m \u001b[0mcheck_is_fitted\u001b[0m\u001b[1;33m\u001b[0m\u001b[0m\n\u001b[0;32m     12\u001b[0m \u001b[1;33m\u001b[0m\u001b[0m\n\u001b[1;32m---> 13\u001b[1;33m \u001b[1;32mfrom\u001b[0m \u001b[1;33m.\u001b[0m \u001b[1;32mimport\u001b[0m \u001b[0m_hmmc\u001b[0m\u001b[1;33m\u001b[0m\u001b[0m\n\u001b[0m\u001b[0;32m     14\u001b[0m \u001b[1;32mfrom\u001b[0m \u001b[1;33m.\u001b[0m\u001b[0mutils\u001b[0m \u001b[1;32mimport\u001b[0m \u001b[0mnormalize\u001b[0m\u001b[1;33m,\u001b[0m \u001b[0mlog_normalize\u001b[0m\u001b[1;33m,\u001b[0m \u001b[0miter_from_X_lengths\u001b[0m\u001b[1;33m,\u001b[0m \u001b[0mlog_mask_zero\u001b[0m\u001b[1;33m\u001b[0m\u001b[0m\n\u001b[0;32m     15\u001b[0m \u001b[1;33m\u001b[0m\u001b[0m\n",
      "\u001b[1;31mImportError\u001b[0m: cannot import name '_hmmc'"
     ]
    }
   ],
   "source": [
    "import numpy as np\n",
    "import pandas as pd\n",
    "from os import listdir\n",
    "import random\n",
    "random.seed()   \n",
    "import sklearn.mixture as mix\n",
    "# import talib\n",
    "import matplotlib.pyplot as plt\n",
    "from matplotlib import cm\n",
    "import time\n",
    "%matplotlib inline\n",
    "import seaborn as sns\n",
    "from scipy.stats import pearsonr\n",
    "from hmmlearn import hmm\n",
    "np.random.seed(42)"
   ]
  },
  {
   "cell_type": "markdown",
   "metadata": {},
   "source": [
    "# Load data from Reuters"
   ]
  },
  {
   "cell_type": "code",
   "execution_count": null,
   "metadata": {
    "collapsed": true,
    "scrolled": true
   },
   "outputs": [],
   "source": [
    "import eikon as ek\n",
    "ek.set_app_id('604ea22425e048d39af0ef760ec9c64ebbe1fe68')\n",
    "startdate='1000-01-20T15:04:05'\n",
    "current_date=time.strftime(\"%Y-%m-%d\")\n",
    "\n",
    "TTF=ek.get_timeseries('TFMBYc1',start_date=startdate,end_date=current_date)\n",
    "TTF = TTF.rename(columns={'CLOSE':'TTF_CLOSE'})\n",
    "TTF = TTF.dropna(subset=['TTF_CLOSE'])\n",
    "TTF['TTF_RSI'] = talib.RSI(TTF['TTF_CLOSE'],14).astype(float)\n",
    "# display(TTF)\n",
    "\n",
    "brent=ek.get_timeseries('LCOc12',start_date=startdate,end_date=current_date) \n",
    "brent = brent.rename(columns={'CLOSE':'brent_CLOSE'})\n",
    "brent = brent.dropna(subset=['brent_CLOSE'])\n",
    "brent['brent_RSI'] = talib.RSI(brent['brent_CLOSE'],14).astype(float)\n",
    "# display(brent)\n",
    "\n",
    "coal=ek.get_timeseries('TRAPI2Yc1',start_date=startdate,end_date=current_date)\n",
    "coal = coal.rename(columns={'CLOSE':'coal_CLOSE'})\n",
    "coal = coal.dropna(subset=['coal_CLOSE'])\n",
    "# display(coal)\n",
    "coal['coal_RSI'] = talib.RSI(coal['coal_CLOSE'],14).astype(float)\n",
    "# display(coal)\n",
    "\n",
    "CO2=ek.get_timeseries('CFI2c12',start_date=startdate,end_date=current_date)\n",
    "CO2 = CO2.rename(columns={'CLOSE':'CO2_CLOSE'})\n",
    "CO2 = CO2.dropna(subset=['CO2_CLOSE'])\n",
    "CO2['CO2_RSI'] = talib.RSI(CO2['CO2_CLOSE'],14).astype(float)\n",
    "# display(CO2)\n",
    "\n",
    "data = pd.merge(pd.DataFrame(TTF['TTF_RSI']), pd.DataFrame(brent['brent_RSI']), how = 'inner', left_index=True, right_index=True)\n",
    "data = pd.merge(data, pd.DataFrame(coal['coal_RSI']), how = 'inner', left_index=True, right_index=True)\n",
    "data = pd.merge(data, pd.DataFrame(CO2['CO2_RSI']), how = 'inner', left_index=True, right_index=True)\n",
    "\n",
    "data = pd.merge(data, pd.DataFrame(TTF['TTF_CLOSE']), how = 'inner', left_index=True, right_index=True)\n",
    "data = pd.merge(data, pd.DataFrame(brent['brent_CLOSE']), how = 'inner', left_index=True, right_index=True)\n",
    "data = pd.merge(data, pd.DataFrame(coal['coal_CLOSE']), how = 'inner', left_index=True, right_index=True)\n",
    "data = pd.merge(data, pd.DataFrame(CO2['CO2_CLOSE']), how = 'inner', left_index=True, right_index=True)\n",
    "\n",
    "select = data.ix[:].dropna()\n",
    "data = data.dropna()\n",
    "\n",
    "data['brent_Corr'] = data['TTF_CLOSE'].rolling(20).corr(data['brent_CLOSE'])\n",
    "data['coal_Corr'] = data['TTF_CLOSE'].rolling(20).corr(data['coal_CLOSE'])\n",
    "data['CO2_Corr'] = data['TTF_CLOSE'].rolling(20).corr(data['CO2_CLOSE'])\n",
    "data = data.dropna()\n",
    "X =  data[['TTF_RSI','brent_RSI','coal_RSI','CO2_RSI','brent_Corr','coal_Corr','CO2_Corr']].values\n",
    "# data = pd.merge(data, pd.DataFrame(TTF['TTF_CLOSE']), how = 'inner', left_index=True, right_index=True)\n",
    "display(data)"
   ]
  },
  {
   "cell_type": "markdown",
   "metadata": {},
   "source": [
    "# train model with optimal number of hidden states"
   ]
  },
  {
   "cell_type": "code",
   "execution_count": null,
   "metadata": {
    "collapsed": true,
    "scrolled": true
   },
   "outputs": [],
   "source": [
    "X =  data.values\n",
    "model = hmm.GaussianHMM(n_components=2, covariance_type=\"full\", n_iter=1000).fit(X)\n",
    "hidden_states = model.predict(X)\n",
    "########################################################################### HMM #####################################\n",
    "data['HMM_TTF'] = hidden_states\n",
    "print(model.converged_)\n",
    "display(data)\n",
    "\n",
    "from sklearn.externals import joblib\n",
    "# now you can save it to a file\n",
    "joblib.dump(model, 'HMM.pkl') \n",
    "# and later you can load it\n",
    "model = joblib.load('HMM.pkl')\n",
    "print(hidden_states)"
   ]
  },
  {
   "cell_type": "code",
   "execution_count": null,
   "metadata": {
    "collapsed": true,
    "scrolled": false
   },
   "outputs": [],
   "source": [
    "style_kwds = {'xtick.major.size': 1, 'ytick.major.size': 1,\n",
    "              'font.family':u'courier prime code', 'legend.frameon': True}\n",
    "sns.set(font_scale=1.5)\n",
    "\n",
    "states = (pd.DataFrame(data, columns=['states'],index=data.index).join(data, how='inner')\n",
    "          .reset_index(drop=False)\n",
    "          )\n",
    "# print(data.index)\n",
    "# display(states)\n",
    "sns.set_style('white', style_kwds)\n",
    "# order = [0,1]\n",
    "order = range(3)\n",
    "fg = sns.FacetGrid(data=states, hue='HMM_TTF', hue_order=order,\n",
    "                    aspect=1.31, size=12)\n",
    "fg.map(plt.scatter, 'Date', 'TTF_CLOSE', alpha=0.8).add_legend()\n",
    "sns.despine(offset=10)\n",
    "fg.fig.suptitle('Historical WTI Regimes', fontsize=24, fontweight='demi')\n",
    "fg.savefig('Hidden Markov (Mixture) Model_SPY Regimes.png')"
   ]
  }
 ],
 "metadata": {
  "kernelspec": {
   "display_name": "Python (env1)",
   "language": "python",
   "name": "env1"
  },
  "language_info": {
   "codemirror_mode": {
    "name": "ipython",
    "version": 3
   },
   "file_extension": ".py",
   "mimetype": "text/x-python",
   "name": "python",
   "nbconvert_exporter": "python",
   "pygments_lexer": "ipython3",
   "version": "3.6.2"
  }
 },
 "nbformat": 4,
 "nbformat_minor": 2
}
