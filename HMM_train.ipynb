{
 "cells": [
  {
   "cell_type": "code",
   "execution_count": 1,
   "metadata": {},
   "outputs": [],
   "source": [
    "import torch\n",
    "import numpy as np\n",
    "import pandas as pd\n",
    "from os import listdir\n",
    "import random\n",
    "random.seed()   \n",
    "import sklearn.mixture as mix\n",
    "import talib\n",
    "import matplotlib.pyplot as plt\n",
    "from matplotlib import cm\n",
    "import seaborn as sns\n",
    "from hmmlearn import hmm\n",
    "np.random.seed(42)\n",
    "\n",
    "\n",
    "mypath = '/media/sweerts/Data/trading/cash_bot/data/'\n",
    "extension = 'h5'\n",
    "onlyfiles = [f for f in listdir(mypath) if f.endswith('.' + extension)]"
   ]
  },
  {
   "cell_type": "markdown",
   "metadata": {},
   "source": [
    "# Prepare training data set"
   ]
  },
  {
   "cell_type": "code",
   "execution_count": 2,
   "metadata": {
    "scrolled": false
   },
   "outputs": [],
   "source": [
    "masterdata = pd.read_hdf('/media/sweerts/Data/trading/cash_bot/data/' + onlyfiles[0], mode='r')\n",
    "masterdata['RSI'] = talib.RSI(masterdata['close'],140).astype(float)\n",
    "masterdata = masterdata.dropna()\n",
    "for file in onlyfiles[1:]:\n",
    "    data = pd.read_hdf('/media/sweerts/Data/trading/cash_bot/data/' + file, mode='r')\n",
    "    data['RSI'] = talib.RSI(data['close'],140).astype(float)\n",
    "    data = data.dropna()\n",
    "    masterdata = masterdata.append(data)\n",
    "    \n"
   ]
  },
  {
   "cell_type": "markdown",
   "metadata": {},
   "source": [
    "# train model with optimal number of hidden states"
   ]
  },
  {
   "cell_type": "code",
   "execution_count": 3,
   "metadata": {},
   "outputs": [],
   "source": [
    "X =  masterdata['RSI'].values.reshape(-1, 1)\n",
    "model = hmm.GaussianHMM(n_components=2, covariance_type=\"full\", n_iter=1000).fit(X)\n",
    "hidden_states = model.predict(X)\n",
    "########################################################################### HMM #####################################\n",
    "masterdata['HMM_RSI'] = hidden_states"
   ]
  },
  {
   "cell_type": "code",
   "execution_count": 4,
   "metadata": {},
   "outputs": [],
   "source": [
    "from sklearn.externals import joblib\n",
    "# now you can save it to a file\n",
    "joblib.dump(model, 'HMM.pkl') \n",
    "# and later you can load it\n",
    "model = joblib.load('HMM.pkl')"
   ]
  },
  {
   "cell_type": "markdown",
   "metadata": {},
   "source": [
    "# Test model"
   ]
  },
  {
   "cell_type": "code",
   "execution_count": 5,
   "metadata": {},
   "outputs": [
    {
     "name": "stdout",
     "output_type": "stream",
     "text": [
      "4803 4803 4803\n"
     ]
    }
   ],
   "source": [
    "from sklearn.externals import joblib\n",
    "masterdata = pd.read_hdf('/media/sweerts/Data/trading/cash_bot/data/' + onlyfiles[10], mode='r')\n",
    "masterdata['RSI'] = talib.RSI(masterdata['close'],140).astype(float)\n",
    "masterdata = masterdata.dropna()\n",
    "X =  masterdata['RSI'].values.reshape(-1, 1)\n",
    "model = joblib.load('HMM.pkl')\n",
    "hidden_states1 = model.predict(X)\n",
    "hidden_states2 = model.predict(X)\n",
    "hidden_states3 = model.predict(X)\n",
    "print(sum(hidden_states1),sum(hidden_states2),sum(hidden_states3))"
   ]
  },
  {
   "cell_type": "code",
   "execution_count": null,
   "metadata": {},
   "outputs": [],
   "source": [
    "print(sum((hidden_states1==hidden_states2)-1))"
   ]
  },
  {
   "cell_type": "code",
   "execution_count": 6,
   "metadata": {},
   "outputs": [
    {
     "name": "stdout",
     "output_type": "stream",
     "text": [
      "[1 0 0 ... 1 1 1]\n"
     ]
    }
   ],
   "source": [
    "print(hidden_states1)"
   ]
  }
 ],
 "metadata": {
  "kernelspec": {
   "display_name": "trading",
   "language": "python",
   "name": "trading"
  },
  "language_info": {
   "codemirror_mode": {
    "name": "ipython",
    "version": 3
   },
   "file_extension": ".py",
   "mimetype": "text/x-python",
   "name": "python",
   "nbconvert_exporter": "python",
   "pygments_lexer": "ipython3",
   "version": "3.6.6"
  }
 },
 "nbformat": 4,
 "nbformat_minor": 2
}
